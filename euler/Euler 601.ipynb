{
 "cells": [
  {
   "cell_type": "code",
   "execution_count": 1,
   "metadata": {
    "collapsed": false
   },
   "outputs": [
    {
     "data": {
      "text/plain": [
       "(4, 1)"
      ]
     },
     "execution_count": 1,
     "metadata": {},
     "output_type": "execute_result"
    }
   ],
   "source": [
    "import math\n",
    "\n",
    "def streak(n):\n",
    "    if (n == 1):\n",
    "        return math.inf\n",
    "    i = 0\n",
    "    while (n + i) % (i + 1) == 0:\n",
    "        i += 1\n",
    "    return i\n",
    "\n",
    "streak(13), streak(120)"
   ]
  },
  {
   "cell_type": "code",
   "execution_count": 2,
   "metadata": {
    "collapsed": false
   },
   "outputs": [
    {
     "ename": "NameError",
     "evalue": "name 'P' is not defined",
     "output_type": "error",
     "traceback": [
      "\u001b[0;31m---------------------------------------------------------------------------\u001b[0m",
      "\u001b[0;31mNameError\u001b[0m                                 Traceback (most recent call last)",
      "\u001b[0;32m<ipython-input-2-6313d7a489ca>\u001b[0m in \u001b[0;36m<module>\u001b[0;34m()\u001b[0m\n\u001b[1;32m      6\u001b[0m     \u001b[0;32mreturn\u001b[0m \u001b[0mcount\u001b[0m\u001b[0;34m\u001b[0m\u001b[0m\n\u001b[1;32m      7\u001b[0m \u001b[0;34m\u001b[0m\u001b[0m\n\u001b[0;32m----> 8\u001b[0;31m \u001b[0mP\u001b[0m\u001b[0;34m(\u001b[0m\u001b[0;36m3\u001b[0m\u001b[0;34m,\u001b[0m \u001b[0;36m14\u001b[0m\u001b[0;34m)\u001b[0m\u001b[0;34m,\u001b[0m \u001b[0mP\u001b[0m\u001b[0;34m(\u001b[0m\u001b[0;36m6\u001b[0m\u001b[0;34m,\u001b[0m \u001b[0;36m10\u001b[0m\u001b[0;34m**\u001b[0m\u001b[0;36m6\u001b[0m\u001b[0;34m)\u001b[0m\u001b[0;34m\u001b[0m\u001b[0m\n\u001b[0m",
      "\u001b[0;31mNameError\u001b[0m: name 'P' is not defined"
     ]
    }
   ],
   "source": [
    "def brute_p(s, N):\n",
    "    count = 0\n",
    "    for i in range(2, N):\n",
    "        if streak(i) == s:\n",
    "            count += 1\n",
    "    return count\n",
    "\n",
    "P(3, 14), P(6, 10**6)"
   ]
  },
  {
   "cell_type": "code",
   "execution_count": 3,
   "metadata": {
    "collapsed": false
   },
   "outputs": [],
   "source": [
    "def brute_force(s, N):\n",
    "    count = 0\n",
    "    for i in range(1, s):\n",
    "        count += brute_p(i, N)\n",
    "    return count\n",
    "        \n",
    "#brute_force(31, 4**31)"
   ]
  },
  {
   "cell_type": "code",
   "execution_count": 4,
   "metadata": {
    "collapsed": false
   },
   "outputs": [
    {
     "data": {
      "text/plain": [
       "1617243"
      ]
     },
     "execution_count": 4,
     "metadata": {},
     "output_type": "execute_result"
    }
   ],
   "source": [
    "prime_factors = [ 1,  2,  3,  2, 5, 1,  7, 2,  3, 1,\n",
    "                 11,  1, 13,  1, 1, 2, 17, 1, 19, 1,\n",
    "                  1,  1, 23,  1, 5, 1, 3,  1, 29, 1,\n",
    "                 31,  2]\n",
    "\n",
    "special_list = []\n",
    "prod = 1\n",
    "for n in prime_factors:\n",
    "    prod *= n\n",
    "    special_list.append(prod)\n",
    "\n",
    "def fast_p(s, n):\n",
    "    return (n // special_list[s-1]) - (n // special_list[s]) - (1 if s < 3 else 0)\n",
    "\n",
    "count = 0\n",
    "for i in range(1, 32):\n",
    "    count += fast_p(i, 4**i)\n",
    "count"
   ]
  },
  {
   "cell_type": "code",
   "execution_count": null,
   "metadata": {
    "collapsed": true
   },
   "outputs": [],
   "source": []
  }
 ],
 "metadata": {
  "kernelspec": {
   "display_name": "Python 3",
   "language": "python",
   "name": "python3"
  },
  "language_info": {
   "codemirror_mode": {
    "name": "ipython",
    "version": 3
   },
   "file_extension": ".py",
   "mimetype": "text/x-python",
   "name": "python",
   "nbconvert_exporter": "python",
   "pygments_lexer": "ipython3",
   "version": "3.6.0"
  }
 },
 "nbformat": 4,
 "nbformat_minor": 2
}
