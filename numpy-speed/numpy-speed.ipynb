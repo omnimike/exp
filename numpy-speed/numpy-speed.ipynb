{
 "cells": [
  {
   "cell_type": "code",
   "execution_count": 1,
   "metadata": {},
   "outputs": [],
   "source": [
    "import numpy as np"
   ]
  },
  {
   "cell_type": "code",
   "execution_count": 27,
   "metadata": {},
   "outputs": [],
   "source": [
    "vectors = np.random.rand(300000, 150)"
   ]
  },
  {
   "cell_type": "code",
   "execution_count": 28,
   "metadata": {},
   "outputs": [],
   "source": [
    "vector = np.random.rand(1, 150)"
   ]
  },
  {
   "cell_type": "code",
   "execution_count": 29,
   "metadata": {},
   "outputs": [
    {
     "data": {
      "text/plain": [
       "360000000"
      ]
     },
     "execution_count": 29,
     "metadata": {},
     "output_type": "execute_result"
    }
   ],
   "source": [
    "vectors.nbytes"
   ]
  },
  {
   "cell_type": "code",
   "execution_count": 30,
   "metadata": {},
   "outputs": [],
   "source": [
    "np.save('test.npy', vectors)"
   ]
  },
  {
   "cell_type": "code",
   "execution_count": 31,
   "metadata": {},
   "outputs": [
    {
     "name": "stdout",
     "output_type": "stream",
     "text": [
      "168 ms ± 910 µs per loop (mean ± std. dev. of 7 runs, 10 loops each)\n"
     ]
    }
   ],
   "source": [
    "%%timeit\n",
    "\n",
    "vectors = np.load('test.npy')"
   ]
  },
  {
   "cell_type": "code",
   "execution_count": 7,
   "metadata": {},
   "outputs": [],
   "source": [
    "import pickle"
   ]
  },
  {
   "cell_type": "code",
   "execution_count": 8,
   "metadata": {},
   "outputs": [],
   "source": [
    "with open('test.pkl', 'wb') as out_file:\n",
    "    pickle.dump(vectors, out_file)"
   ]
  },
  {
   "cell_type": "code",
   "execution_count": 9,
   "metadata": {},
   "outputs": [
    {
     "name": "stdout",
     "output_type": "stream",
     "text": [
      "232 ms ± 6.98 ms per loop (mean ± std. dev. of 7 runs, 1 loop each)\n"
     ]
    }
   ],
   "source": [
    "%%timeit\n",
    "\n",
    "with open('test.pkl', 'rb') as out_file:\n",
    "    vectors = pickle.load(out_file)"
   ]
  },
  {
   "cell_type": "code",
   "execution_count": 10,
   "metadata": {},
   "outputs": [],
   "source": [
    "products = ['cloud_jira', 'cloud_misc', 'cloud_confluence', 'hipchat', 'stride', 'cloud_bitbucket']"
   ]
  },
  {
   "cell_type": "code",
   "execution_count": 11,
   "metadata": {},
   "outputs": [],
   "source": [
    "sources = ['jac', 'cac', 'gsac', 'community', 'fd']"
   ]
  },
  {
   "cell_type": "code",
   "execution_count": 12,
   "metadata": {},
   "outputs": [],
   "source": [
    "index = {}\n",
    "for product in products:\n",
    "    for source in sources:\n",
    "        index[product + ':' + source + ':' + 'docs'] = np.random.randint(1000000, size=10000)\n",
    "        index[product + ':' + source + ':' + 'vectors'] = np.random.rand(10000, 150)"
   ]
  },
  {
   "cell_type": "code",
   "execution_count": 13,
   "metadata": {},
   "outputs": [],
   "source": [
    "np.savez('multiple.npz', **index)"
   ]
  },
  {
   "cell_type": "code",
   "execution_count": 22,
   "metadata": {},
   "outputs": [
    {
     "name": "stdout",
     "output_type": "stream",
     "text": [
      "253 ms ± 3.49 ms per loop (mean ± std. dev. of 7 runs, 1 loop each)\n"
     ]
    }
   ],
   "source": [
    "%%timeit\n",
    "\n",
    "index = None\n",
    "with np.load('multiple.npz') as index_file:\n",
    "    index = dict(index_file)"
   ]
  },
  {
   "cell_type": "code",
   "execution_count": 15,
   "metadata": {},
   "outputs": [],
   "source": [
    "with open('multiple.pkl', 'wb') as out_file:\n",
    "    pickle.dump(index, out_file)"
   ]
  },
  {
   "cell_type": "code",
   "execution_count": 16,
   "metadata": {},
   "outputs": [
    {
     "name": "stdout",
     "output_type": "stream",
     "text": [
      "227 ms ± 14.5 ms per loop (mean ± std. dev. of 7 runs, 1 loop each)\n"
     ]
    }
   ],
   "source": [
    "%%timeit\n",
    "\n",
    "with open('multiple.pkl', 'rb') as out_file:\n",
    "    index = pickle.load(out_file)"
   ]
  },
  {
   "cell_type": "code",
   "execution_count": 17,
   "metadata": {},
   "outputs": [],
   "source": [
    "def closest(vectors, vector):\n",
    "    diff = vectors - vector\n",
    "    ranks = (diff * diff).sum(axis=1)\n",
    "    return np.argsort(ranks)"
   ]
  },
  {
   "cell_type": "code",
   "execution_count": 18,
   "metadata": {},
   "outputs": [],
   "source": [
    "def search_docs(docs, vectors, vector):\n",
    "    idx = closest(vectors, vector)\n",
    "    return docs[idx]"
   ]
  },
  {
   "cell_type": "code",
   "execution_count": 19,
   "metadata": {},
   "outputs": [],
   "source": [
    "def search_index(index, query):\n",
    "    docs = []\n",
    "    for product in query['products']:\n",
    "        for source in query['sources']:\n",
    "            docs_key = product + ':' + source + ':docs'\n",
    "            vectors_key = product + ':' + source + ':vectors'\n",
    "            if docs_key in index:\n",
    "                candidate_docs = index[docs_key]\n",
    "                vectors = index[vectors_key]\n",
    "                found_docs = search_docs(candidate_docs, vectors, query['vector'])\n",
    "                docs.extend(found_docs)\n",
    "    return docs"
   ]
  },
  {
   "cell_type": "code",
   "execution_count": 20,
   "metadata": {},
   "outputs": [],
   "source": [
    "query = {\n",
    "    'products': ['cloud_jira', 'cloud_misc'],\n",
    "    'sources': ['jac', 'cac', 'gsac', 'community', 'fd'],\n",
    "    'vector': np.random.rand(150)\n",
    "}"
   ]
  },
  {
   "cell_type": "code",
   "execution_count": 23,
   "metadata": {},
   "outputs": [
    {
     "name": "stdout",
     "output_type": "stream",
     "text": [
      "58.1 ms ± 431 µs per loop (mean ± std. dev. of 7 runs, 10 loops each)\n"
     ]
    }
   ],
   "source": [
    "%%timeit\n",
    "\n",
    "search_index(index, query)"
   ]
  },
  {
   "cell_type": "code",
   "execution_count": 34,
   "metadata": {},
   "outputs": [
    {
     "name": "stdout",
     "output_type": "stream",
     "text": [
      "191 ms ± 529 µs per loop (mean ± std. dev. of 7 runs, 10 loops each)\n"
     ]
    }
   ],
   "source": [
    "%%timeit\n",
    "\n",
    "vectors2 = vectors.copy()"
   ]
  },
  {
   "cell_type": "code",
   "execution_count": 35,
   "metadata": {},
   "outputs": [
    {
     "data": {
      "text/plain": [
       "array([[3.55148564e-01, 4.64306397e-01, 7.61114490e-01, ...,\n",
       "        1.16801514e-01, 5.84080492e-01, 3.38019641e-01],\n",
       "       [2.64657901e-01, 8.10657240e-01, 6.72680205e-01, ...,\n",
       "        6.83145768e-02, 4.94839718e-01, 6.07834048e-01],\n",
       "       [7.51468218e-01, 9.33274884e-01, 9.14571393e-01, ...,\n",
       "        7.97104327e-01, 7.05785688e-01, 9.59173189e-01],\n",
       "       ...,\n",
       "       [7.03779348e-04, 8.05915299e-01, 1.99763365e-01, ...,\n",
       "        8.31354990e-01, 8.93746551e-01, 7.30650320e-01],\n",
       "       [3.33047567e-01, 7.15124904e-02, 9.70056551e-01, ...,\n",
       "        8.46879143e-02, 5.50589253e-01, 7.55409485e-01],\n",
       "       [9.30991460e-01, 2.62388989e-01, 6.79466549e-01, ...,\n",
       "        7.77976840e-01, 1.57419637e-02, 4.52495642e-02]])"
      ]
     },
     "execution_count": 35,
     "metadata": {},
     "output_type": "execute_result"
    }
   ],
   "source": [
    "vectors"
   ]
  },
  {
   "cell_type": "code",
   "execution_count": null,
   "metadata": {},
   "outputs": [],
   "source": []
  }
 ],
 "metadata": {
  "kernelspec": {
   "display_name": "Python 3",
   "language": "python",
   "name": "python3"
  },
  "language_info": {
   "codemirror_mode": {
    "name": "ipython",
    "version": 3
   },
   "file_extension": ".py",
   "mimetype": "text/x-python",
   "name": "python",
   "nbconvert_exporter": "python",
   "pygments_lexer": "ipython3",
   "version": "3.6.4"
  }
 },
 "nbformat": 4,
 "nbformat_minor": 2
}
